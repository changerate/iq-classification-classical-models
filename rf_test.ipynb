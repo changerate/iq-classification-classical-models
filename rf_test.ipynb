{
 "cells": [
  {
   "cell_type": "code",
   "execution_count": 1,
   "id": "6466451a",
   "metadata": {},
   "outputs": [],
   "source": [
    "from sklearn.model_selection import train_test_split\n",
    "from sklearn.preprocessing import StandardScaler\n",
    "from sklearn.ensemble import RandomForestClassifier\n",
    "from sklearn.svm import SVC\n",
    "from sklearn.metrics import classification_report, confusion_matrix\n",
    "\n",
    "import pandas as pd\n",
    "import numpy as np\n",
    "import os\n",
    "import glob"
   ]
  },
  {
   "cell_type": "code",
   "execution_count": 2,
   "id": "bacbe606",
   "metadata": {},
   "outputs": [],
   "source": [
    "# DRONE_NAMES = { \n",
    "#     \"Phantom\" : \"Phantom\",\n",
    "#     \"Ruko_F11_Pro\" : \"Ruko_F11_Pro\",\n",
    "#     \"Mavic_Air_2_\" : \"Mavic_Air_2\",\n",
    "#     \"Mavic_Air_2S\" : \"Mavic_Air_2S\",\n",
    "#     \"DeerC\" : \"DeerC\",\n",
    "#     \"Mini_SE\" : \"Mini_SE\",\n",
    "#     \"test\" : \"test\",\n",
    "# }\n",
    "\n",
    "def get_label_from_filename(filename): \n",
    "    if \"Phantom\" in filename: return \"Phantom\"\n",
    "    if \"Ruko_F11_Pro\" in filename: return \"Ruko_F11_Pro\"\n",
    "    if \"Mavic_Air_2_\" in filename: return \"Mavic_Air_2\"\n",
    "    if \"Mavic_Air_2S\" in filename: return \"Mavic_Air_2S\"\n",
    "    if \"DeerC\" in filename: return \"DeerC\"\n",
    "    if \"Mini_SE\" in filename: return \"Mini_SE\"\n",
    "    if \"test\" in filename: return \"test\"\n",
    "    \n",
    "def load_iq(file, window_size, samples_per_file): \n",
    "    df = pd.read_csv(file, nrows=window_size * samples_per_file)\n",
    "    iq = df[['i', 'q']].to_numpy()\n",
    "    return iq\n",
    "    "
   ]
  },
  {
   "cell_type": "code",
   "execution_count": 3,
   "id": "97ec5c96",
   "metadata": {},
   "outputs": [],
   "source": [
    "# Path to your IQ files\n",
    "drone_files = \"./data/*.csv\"\n",
    "target_len = 500000\n",
    "X = []\n",
    "y = []\n",
    "\n",
    "# Example: 2048-sample windows with 50% overlap\n",
    "window_size = 2048 # number of iq samples to chunk\n",
    "samples_per_file = 1000\n",
    "step = 1024\n",
    "segments = []\n",
    "labels = []\n",
    "\n",
    "\n",
    "for file in glob.glob(drone_files):\n",
    "    # print(\"The current file: \", file)\n",
    "    label = get_label_from_filename(file)\n",
    "    # print(\"Label: \", label)\n",
    "    iq = load_iq(file, window_size, samples_per_file)  # shape (N, 2)\n",
    "    # print(\"iq:\\n\", iq)\n",
    "    for i in range(0, len(iq)-window_size, step):\n",
    "        window = iq[i:i+window_size].flatten()\n",
    "        segments.append(window)\n",
    "        labels.append(label)\n",
    "    # print(\"Segments:\\n\", segments)\n",
    "    # print(\"Labels:\\n\", labels)\n",
    "    \n",
    "\n",
    "X = [segment.flatten() for segment in segments]\n",
    "y = labels\n",
    "\n",
    "# print(\"X feature:\\n\", X)\n",
    "# print(\"y feature:\\n\", y)\n",
    "\n",
    "X = np.array(X)\n",
    "y = np.array(y)"
   ]
  },
  {
   "cell_type": "code",
   "execution_count": 4,
   "id": "bd551a43",
   "metadata": {},
   "outputs": [],
   "source": [
    "# for sample, label in zip(X, np.unique(y)): \n",
    "#     print(\"X feature:\\n\", sample)\n",
    "#     print(\"IQ samples in X feature: \", int(sample.size / 2))\n",
    "#     print(\"y label: \", label)\n",
    "#     print('-------------------------------------------')"
   ]
  },
  {
   "cell_type": "markdown",
   "id": "49d4e20d",
   "metadata": {},
   "source": [
    "## Support Vector Classifier "
   ]
  },
  {
   "cell_type": "markdown",
   "id": "ea64dcff",
   "metadata": {},
   "source": [
    "Training & fitting"
   ]
  },
  {
   "cell_type": "code",
   "execution_count": null,
   "id": "ad0bb73a",
   "metadata": {},
   "outputs": [],
   "source": [
    "# Train/test split (e.g. 80/20)\n",
    "X_train, X_test, y_train, y_test = train_test_split(X, y, test_size=0.2, stratify=y, random_state=42)\n",
    "\n",
    "# Standardize features (zero mean, unit variance)\n",
    "scaler = StandardScaler()\n",
    "X_train = scaler.fit_transform(X_train)\n",
    "X_test = scaler.transform(X_test)\n",
    "\n",
    "\n",
    "SVCModel = SVC(kernel='rbf', C=10, gamma='scale')  # tweak C/gamma as needed\n",
    "SVCModel.fit(X_train, y_train)"
   ]
  },
  {
   "cell_type": "markdown",
   "id": "57990705",
   "metadata": {},
   "source": [
    "Prediction and metrics"
   ]
  },
  {
   "cell_type": "code",
   "execution_count": null,
   "id": "448c4820",
   "metadata": {},
   "outputs": [],
   "source": [
    "\n",
    "y_pred = SVCModel.predict(X_test)\n",
    "print(classification_report(y_test, y_pred))\n",
    "print(confusion_matrix(y_test, y_pred))\n"
   ]
  },
  {
   "cell_type": "markdown",
   "id": "0e320bd7",
   "metadata": {},
   "source": [
    "## Random Forest Classifier"
   ]
  },
  {
   "cell_type": "code",
   "execution_count": null,
   "id": "db7a3847",
   "metadata": {},
   "outputs": [],
   "source": []
  },
  {
   "cell_type": "code",
   "execution_count": null,
   "id": "c6e3e8fd",
   "metadata": {},
   "outputs": [],
   "source": []
  }
 ],
 "metadata": {
  "kernelspec": {
   "display_name": ".venv",
   "language": "python",
   "name": "python3"
  },
  "language_info": {
   "codemirror_mode": {
    "name": "ipython",
    "version": 3
   },
   "file_extension": ".py",
   "mimetype": "text/x-python",
   "name": "python",
   "nbconvert_exporter": "python",
   "pygments_lexer": "ipython3",
   "version": "3.13.2"
  }
 },
 "nbformat": 4,
 "nbformat_minor": 5
}
